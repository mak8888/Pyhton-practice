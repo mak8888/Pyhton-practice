{
 "cells": [
  {
   "cell_type": "code",
   "execution_count": 7,
   "metadata": {},
   "outputs": [],
   "source": [
    "class Point ():\n",
    "    def __init__ (self,x_cordinate,y_cordinate,z_cordinate):\n",
    "        self.x_cordinate = x_cordinate\n",
    "        self.y_cordinate = y_cordinate\n",
    "        self.z_cordinate = z_cordinate\n",
    "        def total (self):\n",
    "            if self.x_cordinate <20:\n",
    "                print (\"this point x co is < 10f\")\n",
    "                return\n",
    "point1 = Point (10,20,11)\n",
    "point2 = Point (12,21,12)\n",
    "point3 = Point (13,22,13)\n"
   ]
  },
  {
   "cell_type": "code",
   "execution_count": 23,
   "metadata": {},
   "outputs": [
    {
     "name": "stdout",
     "output_type": "stream",
     "text": [
      "33 20 11\n"
     ]
    }
   ],
   "source": [
    "print(point1.x_cordinate,point1.y_cordinate,point1.z_cordinate)"
   ]
  },
  {
   "cell_type": "code",
   "execution_count": 22,
   "metadata": {},
   "outputs": [
    {
     "name": "stdout",
     "output_type": "stream",
     "text": [
      "33 20 11\n"
     ]
    }
   ],
   "source": [
    "point1.x_cordinate = 33\n",
    "print(point1.x_cordinate,point1.y_cordinate,point1.z_cordinate)"
   ]
  },
  {
   "cell_type": "code",
   "execution_count": 9,
   "metadata": {},
   "outputs": [],
   "source": [
    "class car ():\n",
    "    def __init__ (self,name,brand,model,price):\n",
    "        self.name = name\n",
    "        self.brand = brand\n",
    "        self.model = model\n",
    "        self.price = price\n",
    "    def name_change (self,new_name,new_brand,new_model,new_price):\n",
    "        self.name = new_name\n",
    "        self.brand = new_brand\n",
    "        self.model = new_model\n",
    "        self.price = new_price\n",
    "    def car_no (self):\n",
    "        print(self.name,self.brand,self.price,self.model)\n",
    "car1 = car(\"baleno\",\"suzuki\",'2005','500000')\n",
    "car2 = car('vitz','toyota','2007','595000')\n",
    "car3 = car('ciaz','suzuki','2009','700000')\n",
    "car4 = car('city','honda','2013','900000')\n"
   ]
  },
  {
   "cell_type": "code",
   "execution_count": 11,
   "metadata": {},
   "outputs": [
    {
     "name": "stdout",
     "output_type": "stream",
     "text": [
      "baleno suzuki 500000 2005\n"
     ]
    }
   ],
   "source": [
    "car1.car_no()"
   ]
  },
  {
   "cell_type": "code",
   "execution_count": 3,
   "metadata": {},
   "outputs": [
    {
     "ename": "AttributeError",
     "evalue": "'car' object has no attribute 'car_NO'",
     "output_type": "error",
     "traceback": [
      "\u001b[1;31m---------------------------------------------------------------------------\u001b[0m",
      "\u001b[1;31mAttributeError\u001b[0m                            Traceback (most recent call last)",
      "\u001b[1;32m<ipython-input-3-18e5ce1dea62>\u001b[0m in \u001b[0;36m<module>\u001b[1;34m()\u001b[0m\n\u001b[1;32m----> 1\u001b[1;33m \u001b[0mcar1\u001b[0m\u001b[1;33m.\u001b[0m\u001b[0mcar_NO\u001b[0m\u001b[1;33m(\u001b[0m\u001b[1;33m)\u001b[0m\u001b[1;33m\u001b[0m\u001b[0m\n\u001b[0m",
      "\u001b[1;31mAttributeError\u001b[0m: 'car' object has no attribute 'car_NO'"
     ]
    }
   ],
   "source": [
    "car1.car_NO()"
   ]
  },
  {
   "cell_type": "code",
   "execution_count": 14,
   "metadata": {},
   "outputs": [],
   "source": [
    "car1.name_change(\"mehran\",\"suzuki\",'2005','500000')"
   ]
  },
  {
   "cell_type": "code",
   "execution_count": 17,
   "metadata": {},
   "outputs": [
    {
     "name": "stdout",
     "output_type": "stream",
     "text": [
      "mehran suzuki 500000 2005\n"
     ]
    }
   ],
   "source": [
    "car1.car_no()"
   ]
  },
  {
   "cell_type": "code",
   "execution_count": null,
   "metadata": {},
   "outputs": [],
   "source": []
  }
 ],
 "metadata": {
  "kernelspec": {
   "display_name": "Python 3",
   "language": "python",
   "name": "python3"
  },
  "language_info": {
   "codemirror_mode": {
    "name": "ipython",
    "version": 3
   },
   "file_extension": ".py",
   "mimetype": "text/x-python",
   "name": "python",
   "nbconvert_exporter": "python",
   "pygments_lexer": "ipython3",
   "version": "3.6.5"
  }
 },
 "nbformat": 4,
 "nbformat_minor": 2
}
