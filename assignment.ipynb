{
 "cells": [
  {
   "cell_type": "markdown",
   "metadata": {},
   "source": [
    "# ASSIGNMENT "
   ]
  },
  {
   "cell_type": "markdown",
   "metadata": {},
   "source": [
    "<h3> 1 : Declare and initialize a variable name total_marks with a value 500</h3>\n"
   ]
  },
  {
   "cell_type": "code",
   "execution_count": null,
   "metadata": {},
   "outputs": [],
   "source": [
    "total_marks = 500"
   ]
  },
  {
   "cell_type": "markdown",
   "metadata": {},
   "source": [
    "<h3> 2 : Declare and initialize 5 variables name maths , english , urdu , physics and chemisrty with different integer values</h3>"
   ]
  },
  {
   "cell_type": "code",
   "execution_count": null,
   "metadata": {},
   "outputs": [],
   "source": [
    "maths = 12\n",
    "english = 13\n",
    "physics = 14\n",
    "chemistry = 15\n",
    "urdu = 16"
   ]
  },
  {
   "cell_type": "markdown",
   "metadata": {},
   "source": [
    "<h3>3 : Calculate the obtained marks And assign the value In variable name obtained_marks</h3>"
   ]
  },
  {
   "cell_type": "code",
   "execution_count": 5,
   "metadata": {},
   "outputs": [
    {
     "data": {
      "text/plain": [
       "70"
      ]
     },
     "execution_count": 5,
     "metadata": {},
     "output_type": "execute_result"
    }
   ],
   "source": [
    "maths = 12\n",
    "english = 13\n",
    "physics = 14\n",
    "chemistry = 15\n",
    "urdu = 16\n",
    "obtained_marks = maths + physics + chemistry + urdu + english\n",
    "obtained_marks"
   ]
  },
  {
   "cell_type": "markdown",
   "metadata": {},
   "source": [
    "<h3>4 : Calculate percentage and assign the value in variable name percentage</h3>"
   ]
  },
  {
   "cell_type": "code",
   "execution_count": 8,
   "metadata": {},
   "outputs": [
    {
     "name": "stdout",
     "output_type": "stream",
     "text": [
      "70\n",
      "0.14\n"
     ]
    }
   ],
   "source": [
    "maths = 12\n",
    "english = 13\n",
    "physics = 14\n",
    "chemistry = 15\n",
    "urdu = 16\n",
    "total_marks = 500\n",
    "obtained_marks = maths + physics + chemistry + urdu + english\n",
    "print (obtained_marks)\n",
    "percentage = obtained_marks / total_marks)\n",
    "print (percentage)"
   ]
  },
  {
   "cell_type": "markdown",
   "metadata": {},
   "source": [
    "<h3>5 : Declare and initialize an empty variable name grade </h3>"
   ]
  },
  {
   "cell_type": "code",
   "execution_count": null,
   "metadata": {},
   "outputs": [],
   "source": [
    "a = 0"
   ]
  },
  {
   "cell_type": "markdown",
   "metadata": {},
   "source": [
    "<h3>6 : assign a vlue to grade by checking the following conditions:: </h3>\n",
    "<h3>if % is greater then and equal to 90 and less then 100 grade is A+ </h3>\n",
    "<h3>if % is greater then and equal to 80 and less then 90 grade is A </h3>\n",
    "<h3>if % is greater then and equal to 70 and less then 80 grade is B </h3>\n",
    "<h3>if % is greater then and equal to 60 and less then 70 grade is C </h3>\n",
    "<h3>if % is less than 60 grade is FAIL </h3>\n"
   ]
  },
  {
   "cell_type": "code",
   "execution_count": 5,
   "metadata": {},
   "outputs": [
    {
     "name": "stdout",
     "output_type": "stream",
     "text": [
      "108\n",
      "21.6\n",
      "your fail\n"
     ]
    }
   ],
   "source": [
    "maths = 20\n",
    "english = 25\n",
    "physics = 20\n",
    "chemistry = 23\n",
    "urdu = 20\n",
    "total_marks = 500\n",
    "obtained_marks = maths + physics + chemistry + urdu + english\n",
    "print (obtained_marks)\n",
    "percentage = (obtained_marks / total_marks)*100\n",
    "print (percentage)\n",
    "if percentage >= 90 and percentage < 100:\n",
    "    print ('your grade is A+')\n",
    "if percentage >= 80 and percentage < 90:\n",
    "    print ('your grade is A')\n",
    "if percentage >= 70 and percentage < 80:\n",
    "    print ('your grade is B')\n",
    "if percentage >= 60 and percentage < 70:\n",
    "    print ('your grade is C')\n",
    "if percentage < 60:\n",
    "    print ('your fail')\n",
    "\n",
    "\n"
   ]
  },
  {
   "cell_type": "markdown",
   "metadata": {},
   "source": [
    "<h3>7 : Print grade percentage and obtained marks</h3>"
   ]
  },
  {
   "cell_type": "code",
   "execution_count": 6,
   "metadata": {},
   "outputs": [
    {
     "name": "stdout",
     "output_type": "stream",
     "text": [
      "108\n",
      "21.6\n",
      "your fail\n"
     ]
    }
   ],
   "source": [
    "maths = 20\n",
    "english = 25\n",
    "physics = 20\n",
    "chemistry = 23\n",
    "urdu = 20\n",
    "total_marks = 500\n",
    "obtained_marks = maths + physics + chemistry + urdu + english\n",
    "print (obtained_marks)\n",
    "percentage = (obtained_marks / total_marks)*100\n",
    "print (percentage)\n",
    "if percentage >= 90 and percentage < 100:\n",
    "    print ('your grade is A+')\n",
    "if percentage >= 80 and percentage < 90:\n",
    "    print ('your grade is A')\n",
    "if percentage >= 70 and percentage < 80:\n",
    "    print ('your grade is B')\n",
    "if percentage >= 60 and percentage < 70:\n",
    "    print ('your grade is C')\n",
    "if percentage < 60:\n",
    "    print ('your fail')"
   ]
  },
  {
   "cell_type": "code",
   "execution_count": 17,
   "metadata": {},
   "outputs": [
    {
     "ename": "IndexError",
     "evalue": "list index out of range",
     "output_type": "error",
     "traceback": [
      "\u001b[1;31m---------------------------------------------------------------------------\u001b[0m",
      "\u001b[1;31mIndexError\u001b[0m                                Traceback (most recent call last)",
      "\u001b[1;32m<ipython-input-17-aae88d5c2b86>\u001b[0m in \u001b[0;36m<module>\u001b[1;34m()\u001b[0m\n\u001b[0;32m      1\u001b[0m \u001b[0msubjects\u001b[0m \u001b[1;33m=\u001b[0m \u001b[1;33m[\u001b[0m\u001b[1;34m\"maths\"\u001b[0m\u001b[1;33m,\u001b[0m \u001b[1;34m\"physics\"\u001b[0m\u001b[1;33m,\u001b[0m\u001b[1;34m\"english\"\u001b[0m\u001b[1;33m,\u001b[0m \u001b[1;34m\"urdu\"\u001b[0m\u001b[1;33m,\u001b[0m \u001b[1;34m\"chemistry\"\u001b[0m\u001b[1;33m]\u001b[0m\u001b[1;33m\u001b[0m\u001b[0m\n\u001b[1;32m----> 2\u001b[1;33m \u001b[0mprint\u001b[0m \u001b[1;33m(\u001b[0m\u001b[0msubjects\u001b[0m \u001b[1;33m[\u001b[0m\u001b[1;36m0\u001b[0m\u001b[1;33m]\u001b[0m\u001b[1;33m,\u001b[0m\u001b[0msubjects\u001b[0m \u001b[1;33m[\u001b[0m\u001b[1;36m2\u001b[0m\u001b[1;33m]\u001b[0m\u001b[1;33m,\u001b[0m\u001b[0msubjects\u001b[0m \u001b[1;33m[\u001b[0m\u001b[1;36m3\u001b[0m\u001b[1;33m]\u001b[0m\u001b[1;33m,\u001b[0m\u001b[0msubjects\u001b[0m \u001b[1;33m[\u001b[0m\u001b[1;36m4\u001b[0m\u001b[1;33m]\u001b[0m\u001b[1;33m,\u001b[0m\u001b[0msubjects\u001b[0m \u001b[1;33m[\u001b[0m\u001b[1;36m5\u001b[0m\u001b[1;33m]\u001b[0m\u001b[1;33m)\u001b[0m\u001b[1;33m\u001b[0m\u001b[0m\n\u001b[0m",
      "\u001b[1;31mIndexError\u001b[0m: list index out of range"
     ]
    }
   ],
   "source": [
    "subjects = [\"maths\", \"physics\",\"english\", \"urdu\", \"chemistry\"]\n",
    "print (subjects [0], subjects [2],subjects [3],subjects [4],subjects [5])"
   ]
  },
  {
   "cell_type": "code",
   "execution_count": null,
   "metadata": {},
   "outputs": [],
   "source": [
    "333331213"
   ]
  }
 ],
 "metadata": {
  "kernelspec": {
   "display_name": "Python 3",
   "language": "python",
   "name": "python3"
  },
  "language_info": {
   "codemirror_mode": {
    "name": "ipython",
    "version": 3
   },
   "file_extension": ".py",
   "mimetype": "text/x-python",
   "name": "python",
   "nbconvert_exporter": "python",
   "pygments_lexer": "ipython3",
   "version": "3.6.5"
  }
 },
 "nbformat": 4,
 "nbformat_minor": 2
}
