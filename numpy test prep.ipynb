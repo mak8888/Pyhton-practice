{
 "cells": [
  {
   "cell_type": "code",
   "execution_count": 4,
   "metadata": {},
   "outputs": [
    {
     "name": "stdout",
     "output_type": "stream",
     "text": [
      "[ 0  1  2  3  4  5  6  7  8  9 10 11 12 13 14 15 16 17 18 19 20 21 22 23\n",
      " 24 25 26 27 28 29 30 31 32 33 34 35 36 37 38 39 40 41 42 43 44 45 46 47\n",
      " 48 49 50 51 52 53 54 55 56 57 58 59 60 61 62 63 64 65 66 67 68 69 70 71\n",
      " 72 73 74 75 76 77 78 79 80 81 82 83 84 85 86 87 88 89 90 91 92 93 94 95\n",
      " 96 97 98 99]\n",
      "<class 'numpy.ndarray'>\n",
      "int32\n"
     ]
    }
   ],
   "source": [
    "import numpy as np\n",
    "a= np.arange(100)\n",
    "print(a)\n",
    "print(type(a))\n",
    "print (a.dtype)"
   ]
  },
  {
   "cell_type": "code",
   "execution_count": 9,
   "metadata": {},
   "outputs": [
    {
     "name": "stdout",
     "output_type": "stream",
     "text": [
      "[[1 2 3 3]\n",
      " [2 4 4 5]\n",
      " [6 6 7 8]]\n",
      "[[1 2 3]\n",
      " [3 2 4]\n",
      " [4 5 6]\n",
      " [6 7 8]]\n",
      "[[1. 1. 1. 1.]\n",
      " [1. 1. 1. 1.]\n",
      " [1. 1. 1. 1.]]\n",
      "[[1. 1. 1.]\n",
      " [1. 1. 1.]\n",
      " [1. 1. 1.]\n",
      " [1. 1. 1.]]\n",
      "12\n",
      "(3, 4)\n",
      "2\n"
     ]
    }
   ],
   "source": [
    "b=np.array([[1,2,3],[3,2,4],[4,5,6],[6,7,8]])\n",
    "print(b.reshape(3,4))\n",
    "print(b)\n",
    "c=np.ones((3,4))\n",
    "print(c)\n",
    "print(c.reshape(4,3))\n",
    "print(c.size)\n",
    "print(c.shape)\n",
    "print(c.ndim)"
   ]
  },
  {
   "cell_type": "code",
   "execution_count": 17,
   "metadata": {},
   "outputs": [
    {
     "data": {
      "text/plain": [
       "array([[[ 1.+0.j,  2.+0.j]],\n",
       "\n",
       "       [[ 3.+0.j,  4.+0.j]],\n",
       "\n",
       "       [[ 5.+0.j,  6.+0.j]],\n",
       "\n",
       "       [[ 7.+0.j,  8.+0.j]],\n",
       "\n",
       "       [[ 9.+0.j, 10.+0.j]]])"
      ]
     },
     "execution_count": 17,
     "metadata": {},
     "output_type": "execute_result"
    }
   ],
   "source": [
    "list1 = [1,2,3,4,5,6,7,8,9,10]\n",
    "c=np.array(list1,dtype=complex)\n",
    "c.reshape(5,1,2,)"
   ]
  },
  {
   "cell_type": "code",
   "execution_count": 18,
   "metadata": {},
   "outputs": [
    {
     "name": "stdout",
     "output_type": "stream",
     "text": [
      "2\n",
      "[[1. 0. 0.]\n",
      " [0. 1. 0.]\n",
      " [0. 0. 1.]]\n"
     ]
    }
   ],
   "source": [
    "l=np.eye(3,3)\n",
    "print(l.ndim)\n",
    "print(l)"
   ]
  },
  {
   "cell_type": "code",
   "execution_count": 22,
   "metadata": {},
   "outputs": [
    {
     "name": "stdout",
     "output_type": "stream",
     "text": [
      "[[[[ 0  1]]\n",
      "\n",
      "  [[ 2  3]]\n",
      "\n",
      "  [[ 4  5]]\n",
      "\n",
      "  [[ 6  7]]\n",
      "\n",
      "  [[ 8  9]]\n",
      "\n",
      "  [[10 11]]\n",
      "\n",
      "  [[12 13]]\n",
      "\n",
      "  [[14 15]]\n",
      "\n",
      "  [[16 17]]\n",
      "\n",
      "  [[18 19]]\n",
      "\n",
      "  [[20 21]]\n",
      "\n",
      "  [[22 23]]\n",
      "\n",
      "  [[24 25]]\n",
      "\n",
      "  [[26 27]]\n",
      "\n",
      "  [[28 29]]\n",
      "\n",
      "  [[30 31]]\n",
      "\n",
      "  [[32 33]]\n",
      "\n",
      "  [[34 35]]\n",
      "\n",
      "  [[36 37]]\n",
      "\n",
      "  [[38 39]]\n",
      "\n",
      "  [[40 41]]\n",
      "\n",
      "  [[42 43]]\n",
      "\n",
      "  [[44 45]]\n",
      "\n",
      "  [[46 47]]\n",
      "\n",
      "  [[48 49]]]\n",
      "\n",
      "\n",
      " [[[50 51]]\n",
      "\n",
      "  [[52 53]]\n",
      "\n",
      "  [[54 55]]\n",
      "\n",
      "  [[56 57]]\n",
      "\n",
      "  [[58 59]]\n",
      "\n",
      "  [[60 61]]\n",
      "\n",
      "  [[62 63]]\n",
      "\n",
      "  [[64 65]]\n",
      "\n",
      "  [[66 67]]\n",
      "\n",
      "  [[68 69]]\n",
      "\n",
      "  [[70 71]]\n",
      "\n",
      "  [[72 73]]\n",
      "\n",
      "  [[74 75]]\n",
      "\n",
      "  [[76 77]]\n",
      "\n",
      "  [[78 79]]\n",
      "\n",
      "  [[80 81]]\n",
      "\n",
      "  [[82 83]]\n",
      "\n",
      "  [[84 85]]\n",
      "\n",
      "  [[86 87]]\n",
      "\n",
      "  [[88 89]]\n",
      "\n",
      "  [[90 91]]\n",
      "\n",
      "  [[92 93]]\n",
      "\n",
      "  [[94 95]]\n",
      "\n",
      "  [[96 97]]\n",
      "\n",
      "  [[98 99]]]]\n"
     ]
    }
   ],
   "source": [
    "d=np.arange(100).reshape(2,25,1,2)\n",
    "d.ndim\n",
    "print(d)"
   ]
  },
  {
   "cell_type": "code",
   "execution_count": 5,
   "metadata": {},
   "outputs": [
    {
     "name": "stdout",
     "output_type": "stream",
     "text": [
      "[[[ 0  1  2  3  4]\n",
      "  [ 5  6  7  8  9]]\n",
      "\n",
      " [[10 11 12 13 14]\n",
      "  [15 16 17 18 19]]\n",
      "\n",
      " [[20 21 22 23 24]\n",
      "  [25 26 27 28 29]]\n",
      "\n",
      " [[30 31 32 33 34]\n",
      "  [35 36 37 38 39]]]\n"
     ]
    }
   ],
   "source": [
    "k=np.arange(40).reshape(4,2,5)\n",
    "print(k)\n"
   ]
  },
  {
   "cell_type": "code",
   "execution_count": 9,
   "metadata": {},
   "outputs": [
    {
     "name": "stdout",
     "output_type": "stream",
     "text": [
      "[]\n"
     ]
    }
   ],
   "source": [
    "print(k[0][:][3:])"
   ]
  },
  {
   "cell_type": "code",
   "execution_count": 1,
   "metadata": {},
   "outputs": [
    {
     "ename": "NameError",
     "evalue": "name 'np' is not defined",
     "output_type": "error",
     "traceback": [
      "\u001b[1;31m---------------------------------------------------------------------------\u001b[0m",
      "\u001b[1;31mNameError\u001b[0m                                 Traceback (most recent call last)",
      "\u001b[1;32m<ipython-input-1-b6034fe299a8>\u001b[0m in \u001b[0;36m<module>\u001b[1;34m()\u001b[0m\n\u001b[1;32m----> 1\u001b[1;33m \u001b[0mw\u001b[0m\u001b[1;33m=\u001b[0m\u001b[0mnp\u001b[0m\u001b[1;33m.\u001b[0m\u001b[0marray\u001b[0m\u001b[1;33m(\u001b[0m\u001b[1;33m[\u001b[0m\u001b[1;33m[\u001b[0m\u001b[1;36m1\u001b[0m\u001b[1;33m,\u001b[0m\u001b[1;36m2\u001b[0m\u001b[1;33m,\u001b[0m\u001b[1;36m3\u001b[0m\u001b[1;33m]\u001b[0m\u001b[1;33m,\u001b[0m\u001b[1;33m[\u001b[0m\u001b[1;36m4\u001b[0m\u001b[1;33m,\u001b[0m\u001b[1;36m5\u001b[0m\u001b[1;33m,\u001b[0m\u001b[1;36m6\u001b[0m\u001b[1;33m]\u001b[0m\u001b[1;33m]\u001b[0m\u001b[1;33m)\u001b[0m\u001b[1;33m\u001b[0m\u001b[0m\n\u001b[0m\u001b[0;32m      2\u001b[0m \u001b[0mprint\u001b[0m\u001b[1;33m(\u001b[0m\u001b[0mw\u001b[0m\u001b[1;33m[\u001b[0m\u001b[1;36m0\u001b[0m\u001b[1;33m:\u001b[0m\u001b[1;36m2\u001b[0m\u001b[1;33m,\u001b[0m\u001b[1;36m0\u001b[0m\u001b[1;33m:\u001b[0m\u001b[1;36m2\u001b[0m\u001b[1;33m]\u001b[0m\u001b[1;33m)\u001b[0m\u001b[1;33m\u001b[0m\u001b[0m\n",
      "\u001b[1;31mNameError\u001b[0m: name 'np' is not defined"
     ]
    }
   ],
   "source": [
    "w=np.array([[1,2,3],[4,5,6]])\n",
    "print(w[0:2,0:2])"
   ]
  },
  {
   "cell_type": "code",
   "execution_count": null,
   "metadata": {},
   "outputs": [],
   "source": []
  }
 ],
 "metadata": {
  "kernelspec": {
   "display_name": "Python 3",
   "language": "python",
   "name": "python3"
  },
  "language_info": {
   "codemirror_mode": {
    "name": "ipython",
    "version": 3
   },
   "file_extension": ".py",
   "mimetype": "text/x-python",
   "name": "python",
   "nbconvert_exporter": "python",
   "pygments_lexer": "ipython3",
   "version": "3.6.5"
  }
 },
 "nbformat": 4,
 "nbformat_minor": 2
}
