{
 "cells": [
  {
   "cell_type": "code",
   "execution_count": 24,
   "metadata": {},
   "outputs": [
    {
     "name": "stdout",
     "output_type": "stream",
     "text": [
      "Misbah\n",
      "Misbah,10,16,23,Ibrahim\n",
      "Misbah,10,16,23,Ibrahim\n",
      "watchman\n"
     ]
    }
   ],
   "source": [
    "class students :\n",
    "    def __init__ (self,name,Rno,Class,age,fname):\n",
    "        self.name = name\n",
    "        self.Rno = Rno\n",
    "        self.Class = Class\n",
    "        self.fname = fname\n",
    "        self.age = age\n",
    "    def basicInfo(self):\n",
    "        return '{},{},{},{},{}'.format (self.name,self.Rno,self.Class,self.age,self.fname)\n",
    "    \n",
    "student1= students('Misbah',10,16,23,'Ibrahim')\n",
    "student2= students('bilal',48,16,22,'Ghafar')\n",
    "print(student1.name)\n",
    "print(student1.basicInfo())\n",
    "print(students.basicInfo(student1))\n",
    "\n",
    "\n",
    "class staff(students):\n",
    "     def __init__ (self,name,Rno,Class,age,fname,post):\n",
    "            self.post = post\n",
    "            super(). __init__ (name,Rno,Class,age,fname)\n",
    "staff1= staff('farida',50,16,22,'Ibrahim','watchman')\n",
    "stafft2= staff('bilal',48,16,22,'Ghafar','accountant')\n",
    "\n",
    "print(staff1.post)\n",
    "\n"
   ]
  },
  {
   "cell_type": "code",
   "execution_count": null,
   "metadata": {},
   "outputs": [],
   "source": []
  }
 ],
 "metadata": {
  "kernelspec": {
   "display_name": "Python 3",
   "language": "python",
   "name": "python3"
  },
  "language_info": {
   "codemirror_mode": {
    "name": "ipython",
    "version": 3
   },
   "file_extension": ".py",
   "mimetype": "text/x-python",
   "name": "python",
   "nbconvert_exporter": "python",
   "pygments_lexer": "ipython3",
   "version": "3.6.5"
  }
 },
 "nbformat": 4,
 "nbformat_minor": 2
}
