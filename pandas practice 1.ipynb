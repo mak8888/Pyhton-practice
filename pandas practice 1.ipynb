{
 "cells": [
  {
   "cell_type": "code",
   "execution_count": 3,
   "metadata": {},
   "outputs": [
    {
     "name": "stdout",
     "output_type": "stream",
     "text": [
      "              key1    key2\n",
      "nestedkey1  value1     NaN\n",
      "nestedkey2  value2     NaN\n",
      "nestedkey3     NaN  value3\n",
      "nestedkey4     NaN  value4\n",
      "Index(['nestedkey1', 'nestedkey2', 'nestedkey3', 'nestedkey4'], dtype='object')\n"
     ]
    }
   ],
   "source": [
    "import numpy as np\n",
    "import pandas as pd\n",
    "from pandas import DataFrame,Series\n",
    "dictt = {\"key1\":{\"nestedkey1\":\"value1\",\"nestedkey2\":\"value2\"},\"key2\":{\"nestedkey3\":\"value3\",\"nestedkey4\":\"value4\"}}\n",
    "frame1=pd.DataFrame(dictt)\n",
    "print(frame1)\n",
    "print(frame1.index)\n"
   ]
  },
  {
   "cell_type": "code",
   "execution_count": 9,
   "metadata": {},
   "outputs": [
    {
     "name": "stdout",
     "output_type": "stream",
     "text": [
      "occurances  one  two  three  four\n",
      "states                           \n",
      "Ohio          0    1      2     3\n",
      "Colorado      4    5      6     7\n",
      "Utah          8    9     10    11\n",
      "New York     12   13     14    15\n",
      "occurances   one   two three  four\n",
      "states                            \n",
      "Ohio        fail  fail  fail  fail\n",
      "Colorado    fail     5     6     7\n",
      "Utah           8     9    10    11\n",
      "New York      12    13    14    15\n"
     ]
    }
   ],
   "source": [
    "data = pd.DataFrame(np.arange(16).reshape((4, 4)),index=['Ohio', 'Colorado', 'Utah', 'New York'],columns=['one', 'two', 'three', 'four'])\n",
    "data.index.name = \"states\"\n",
    "data.columns.name = \"occurances\"\n",
    "print(data)\n",
    "\n",
    "data[data<5] = \"fail\"\n",
    "print(data)"
   ]
  },
  {
   "cell_type": "code",
   "execution_count": null,
   "metadata": {},
   "outputs": [],
   "source": [
    "frame3 =pd.DataFrame(np.arange(36).reshape((6,6)))"
   ]
  }
 ],
 "metadata": {
  "kernelspec": {
   "display_name": "Python 3",
   "language": "python",
   "name": "python3"
  },
  "language_info": {
   "codemirror_mode": {
    "name": "ipython",
    "version": 3
   },
   "file_extension": ".py",
   "mimetype": "text/x-python",
   "name": "python",
   "nbconvert_exporter": "python",
   "pygments_lexer": "ipython3",
   "version": "3.6.5"
  }
 },
 "nbformat": 4,
 "nbformat_minor": 2
}
