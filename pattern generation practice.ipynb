{
 "cells": [
  {
   "cell_type": "code",
   "execution_count": 20,
   "metadata": {},
   "outputs": [],
   "source": [
    "def patterns(n):\n",
    "    for i in range(0,n):\n",
    "        for j in range(0,i):\n",
    "            print(j,end=\" \")\n",
    "        print(\"\\r\")\n",
    "    "
   ]
  },
  {
   "cell_type": "code",
   "execution_count": 22,
   "metadata": {},
   "outputs": [
    {
     "name": "stdout",
     "output_type": "stream",
     "text": [
      " 1\n",
      " 2\n",
      " 2 2\n",
      " 3\n",
      " 3 3\n",
      " 3 3 3\n",
      " 4\n",
      " 4 4\n",
      " 4 4 4\n",
      " 4 4 4 4\n"
     ]
    }
   ],
   "source": [
    "for i in range (5):\n",
    "    temporary_string = \"\"\n",
    "    for j in range (i):\n",
    "        temporary_string += \" \"+str(i)\n",
    "        print(temporary_string)"
   ]
  },
  {
   "cell_type": "code",
   "execution_count": 21,
   "metadata": {},
   "outputs": [
    {
     "name": "stdout",
     "output_type": "stream",
     "text": [
      "\r\n",
      "0 \r\n",
      "0 1 \r\n",
      "0 1 2 \r\n",
      "0 1 2 3 \r\n",
      "0 1 2 3 4 \r\n",
      "0 1 2 3 4 5 \r\n",
      "0 1 2 3 4 5 6 \r\n",
      "0 1 2 3 4 5 6 7 \r\n",
      "0 1 2 3 4 5 6 7 8 \r\n",
      "None\n"
     ]
    }
   ],
   "source": [
    "print(patterns(10))"
   ]
  },
  {
   "cell_type": "code",
   "execution_count": 24,
   "metadata": {},
   "outputs": [
    {
     "name": "stdout",
     "output_type": "stream",
     "text": [
      "7e-07\n"
     ]
    }
   ],
   "source": [
    "import time\n",
    "x=time.clock()\n",
    "print(x)"
   ]
  },
  {
   "cell_type": "code",
   "execution_count": 26,
   "metadata": {},
   "outputs": [
    {
     "name": "stdout",
     "output_type": "stream",
     "text": [
      "0.00010779999999499523\n",
      "0.00010650000000111959\n"
     ]
    }
   ],
   "source": [
    "import time\n",
    "start = time.clock()\n",
    "\n",
    "for x in range(1000):\n",
    "    pass\n",
    "stop = time.clock()\n",
    "\n",
    "print (stop-start)\n",
    "\n",
    "start = time.clock()\n",
    "for x in range(1000):\n",
    "    pass\n",
    "stop = time.clock()\n",
    "\n",
    "print (stop-start)"
   ]
  },
  {
   "cell_type": "code",
   "execution_count": null,
   "metadata": {},
   "outputs": [],
   "source": []
  }
 ],
 "metadata": {
  "kernelspec": {
   "display_name": "Python 3",
   "language": "python",
   "name": "python3"
  },
  "language_info": {
   "codemirror_mode": {
    "name": "ipython",
    "version": 3
   },
   "file_extension": ".py",
   "mimetype": "text/x-python",
   "name": "python",
   "nbconvert_exporter": "python",
   "pygments_lexer": "ipython3",
   "version": "3.6.5"
  }
 },
 "nbformat": 4,
 "nbformat_minor": 2
}
